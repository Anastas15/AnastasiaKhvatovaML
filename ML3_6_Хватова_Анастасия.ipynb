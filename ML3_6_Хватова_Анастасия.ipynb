{
  "nbformat": 4,
  "nbformat_minor": 0,
  "metadata": {
    "colab": {
      "provenance": []
    },
    "kernelspec": {
      "name": "python3",
      "display_name": "Python 3"
    },
    "language_info": {
      "name": "python"
    }
  },
  "cells": [
    {
      "cell_type": "markdown",
      "source": [
        "1) На использованном в работе наборе данных примените другие вариации модели наивного Байеса - Мультономиальный, Бернулли, категориальные и комплементарный. Для каждой модели сделайте вывод о ее применимости."
      ],
      "metadata": {
        "id": "tq8dvPVwV6wq"
      }
    },
    {
      "cell_type": "code",
      "source": [
        "# Импорт необходимых библиотек\n",
        "import numpy as np\n",
        "import pandas as pd\n",
        "from sklearn import datasets\n",
        "from sklearn.feature_extraction.text import CountVectorizer, TfidfVectorizer\n",
        "from sklearn.naive_bayes import MultinomialNB, BernoulliNB, CategoricalNB, ComplementNB, GaussianNB\n",
        "from sklearn.model_selection import train_test_split\n",
        "from sklearn.metrics import confusion_matrix, accuracy_score, f1_score\n",
        "\n",
        "# Загрузка данных о раке груди из библиотеки sklearn.datasets\n",
        "data = datasets.load_breast_cancer()\n",
        "\n",
        "# Создание DataFrame из данных\n",
        "df = pd.DataFrame(data.data, columns=data.feature_names)\n",
        "\n",
        "# Определение признаков (X) и меток (y)\n",
        "X = data.data[:, :2]  # Используем только первые два признака для демонстрационных целей\n",
        "y = data.target\n",
        "\n",
        "# Создание списка моделей и их названий\n",
        "models = [\n",
        "   ('Мультономиальный', MultinomialNB()),  # Мультиномиальный наивный Байес\n",
        "   ('Бернулли', BernoulliNB()),  # Бернулли наивный Байес\n",
        "   ('Категориальные', CategoricalNB()),  # Категориальный наивный Байес\n",
        "   ('Комплементарный', ComplementNB())  # Комплементарный наивный Байес\n",
        "]\n",
        "\n",
        "# Обучение, предсказание и оценка каждой модели\n",
        "for name, model in models:\n",
        "   model.fit(X, y)  # Обучение модели на данных\n",
        "   y_pred = model.predict(X)  # Предсказание меток классов\n",
        "   accuracy = accuracy_score(y, y_pred)  # Оценка точности модели\n",
        "   print(f'{name}: {accuracy:.4f}')  # Вывод названия модели и ее точности\n"
      ],
      "metadata": {
        "colab": {
          "base_uri": "https://localhost:8080/"
        },
        "id": "I4HqZ4dQV1PG",
        "outputId": "134e3ad3-2235-4048-9ac3-609440673091"
      },
      "execution_count": null,
      "outputs": [
        {
          "output_type": "stream",
          "name": "stdout",
          "text": [
            "Мультономиальный: 0.6784\n",
            "Бернулли: 0.6274\n",
            "Категориальные: 0.9033\n",
            "Комплементарный: 0.6239\n"
          ]
        }
      ]
    },
    {
      "cell_type": "markdown",
      "source": [
        "2) Загрузите набор данных о выживших на титанике, прилагающийся к этой работе. Повторите на нем моделирование из методических указаний. Попробуйте разные варианты байесовского классификатора в зависимости от форм расрпеделния эмпирических данных."
      ],
      "metadata": {
        "id": "1fuyxq9JW42A"
      }
    },
    {
      "cell_type": "code",
      "source": [
        "# Импорт необходимых библиотек\n",
        "from sklearn.preprocessing import StandardScaler\n",
        "\n",
        "# Загрузка данных из файла \"titanic.csv\" в DataFrame\n",
        "data = pd.read_csv(\"titanic.csv\")\n",
        "\n",
        "# Определение признаков (X) и меток (y)\n",
        "X = data.drop(\"Survived\", axis=1)  # Признаки (все столбцы, кроме \"Survived\")\n",
        "y = data[\"Survived\"]  # Метки\n",
        "\n",
        "# Разделение данных на обучающий и тестовый наборы\n",
        "X_train, X_test, y_train, y_test = train_test_split(X, y, test_size=0.2, random_state=42)\n",
        "\n",
        "# Масштабирование данных с помощью StandardScaler\n",
        "scaler = StandardScaler()  # Создание экземпляра StandardScaler\n",
        "X_train_scaled = scaler.fit_transform(X_train)  # Масштабирование обучающего набора\n",
        "X_test_scaled = scaler.transform(X_test)  # Масштабирование тестового набора\n",
        "\n",
        "# Создание словаря моделей наивного Байеса\n",
        "models = {\n",
        "   \"Баесс\": GaussianNB(),  # Наивный Байес с гауссовым распределением\n",
        "   \"Мультономиальный\": MultinomialNB(),  # Мультиномиальный наивный Байес\n",
        "   \"Бернулли\": BernoulliNB()  # Бернулли наивный Байес\n",
        "}\n",
        "\n",
        "# Цикл для обучения, предсказания и оценки каждой модели\n",
        "for name, model in models.items():\n",
        "   try:\n",
        "       model.fit(X_train_scaled, y_train)  # Обучение модели на масштабированных данных\n",
        "       y_pred = model.predict(X_test_scaled)  # Предсказание меток классов\n",
        "       accuracy = accuracy_score(y_test, y_pred)  # Оценка точности модели\n",
        "       print(f\"{name} - Точность: {accuracy}\")  # Вывод названия модели и ее точности\n",
        "   except ValueError as e:\n",
        "       print(f\"{name} - {e}\")  # Обработка возможных ошибок и вывод сообщения\n"
      ],
      "metadata": {
        "colab": {
          "base_uri": "https://localhost:8080/"
        },
        "id": "3GN-f-5tW9A-",
        "outputId": "c82c12a1-4132-41c4-e159-d836d6341c5f"
      },
      "execution_count": null,
      "outputs": [
        {
          "output_type": "stream",
          "name": "stdout",
          "text": [
            "Баесс - Точность: 0.770949720670391\n",
            "Мультономиальный - Negative values in data passed to MultinomialNB (input X)\n",
            "Бернулли - Точность: 0.770949720670391\n"
          ]
        }
      ]
    },
    {
      "cell_type": "markdown",
      "source": [
        "3) Загрузите набор данных о Титанике с сайта Kaggle. Обратите внимание на обилие категориальных переменных. Примените на нем наивный байесовский классификатор."
      ],
      "metadata": {
        "id": "I6pKJyTHW6G3"
      }
    },
    {
      "cell_type": "code",
      "source": [
        "# Загрузка данных из файла 'titanic.csv' в DataFrame\n",
        "df = pd.read_csv('titanic.csv')\n",
        "\n",
        "# Определение признаков (X) и меток (y) из DataFrame\n",
        "X = df.iloc[:, 1:]  # Выбор всех строк и столбцов, начиная со второго\n",
        "y = df.iloc[:, 0].values  # Выбор всех строк столбца с индексом 0, в виде массива значений\n",
        "\n",
        "# Создание экземпляра модели наивного Байеса с гауссовым распределением и его обучение\n",
        "gnb = GaussianNB().fit(X, y)  # Обучение модели на данных\n",
        "\n",
        "# Предсказание меток классов и оценка точности модели\n",
        "y_pred = gnb.predict(X)  # Предсказание меток классов\n",
        "accuracy = accuracy_score(y, y_pred)  # Оценка точности модели\n",
        "print(f'Точность: {accuracy:.4f}')  # Вывод точности модели\n"
      ],
      "metadata": {
        "colab": {
          "base_uri": "https://localhost:8080/"
        },
        "id": "Wo0a6zskXAZC",
        "outputId": "652e5ecf-8783-48ee-a94d-d706935b8e63"
      },
      "execution_count": null,
      "outputs": [
        {
          "output_type": "stream",
          "name": "stdout",
          "text": [
            "Точность: 1.0000\n"
          ]
        }
      ]
    }
  ]
}